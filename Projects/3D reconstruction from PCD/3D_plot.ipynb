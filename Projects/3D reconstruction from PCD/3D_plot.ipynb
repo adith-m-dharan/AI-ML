{
  "nbformat": 4,
  "nbformat_minor": 0,
  "metadata": {
    "colab": {
      "provenance": []
    },
    "kernelspec": {
      "name": "python3",
      "display_name": "Python 3"
    },
    "language_info": {
      "name": "python"
    }
  },
  "cells": [
    {
      "cell_type": "code",
      "execution_count": null,
      "metadata": {
        "id": "y-1z06QpTHYJ"
      },
      "outputs": [],
      "source": [
        "import pandas as pd\n",
        "import plotly.graph_objs as go\n",
        "\n",
        "# Function to read coordinates and vertices from a file and add a mesh trace\n",
        "def add_mesh_trace(fig, coordinates_file, vertices_file, color):\n",
        "    # Read the coordinates CSV file\n",
        "    coordinates_df = pd.read_csv(coordinates_file)\n",
        "\n",
        "    # Read the triangles CSV file\n",
        "    triangles_df = pd.read_csv(vertices_file)\n",
        "\n",
        "    # Extract coordinates\n",
        "    x = coordinates_df['x'].tolist()\n",
        "    y = coordinates_df['y'].tolist()\n",
        "    z = coordinates_df['z'].tolist()\n",
        "\n",
        "    # Extract triangle vertices indices\n",
        "    i = triangles_df['v1'].tolist()\n",
        "    j = triangles_df['v2'].tolist()\n",
        "    k = triangles_df['v3'].tolist()\n",
        "\n",
        "    # Add the mesh trace for triangles\n",
        "    fig.add_trace(go.Mesh3d(\n",
        "        x=x, y=y, z=z,\n",
        "        i=i, j=j, k=k,\n",
        "        opacity=0.5,\n",
        "        color=color\n",
        "    ))\n",
        "\n",
        "# Create a Plotly figure\n",
        "fig = go.Figure()\n",
        "\n",
        "# Add mesh traces for each set of files\n",
        "add_mesh_trace(fig, 'nandi_left.csv', 'triangles_left.csv', 'rgba(244,22,100,0.6)')\n",
        "add_mesh_trace(fig, 'nandi_roadway.csv', 'triangles_roadway.csv', 'rgba(0,244,100,0.6)')\n",
        "add_mesh_trace(fig, 'nandi_right.csv', 'triangles_right.csv', 'rgba(244,22,100,0.6)')\n",
        "\n",
        "# Set the layout for the 3D plot\n",
        "fig.update_layout(\n",
        "    scene=dict(\n",
        "        xaxis=dict(title='X', nticks=4),\n",
        "        yaxis=dict(title='Y', nticks=4),\n",
        "        zaxis=dict(title='Z', nticks=4),\n",
        "        aspectmode='data'\n",
        "    )\n",
        ")\n",
        "\n",
        "# Show the figure\n",
        "fig.show()\n"
      ]
    }
  ]
}